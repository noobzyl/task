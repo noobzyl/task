{
 "cells": [
  {
   "cell_type": "code",
   "execution_count": 1,
   "metadata": {},
   "outputs": [
    {
     "name": "stdout",
     "output_type": "stream",
     "text": [
      "(1797, 64)\n",
      "0\n"
     ]
    }
   ],
   "source": [
    "import numpy as np\n",
    "from sklearn.datasets import load_digits\n",
    "from sklearn import naive_bayes\n",
    "from sklearn.model_selection import train_test_split\n",
    "from sklearn import metrics\n",
    "digits = load_digits()\n",
    "x = digits.images\n",
    "y = digits.target\n",
    "x = np.reshape(x, [x.shape[0], -1])#将二维数据调整为一维，方便后续分类\n",
    "print(x.shape)\n",
    "print(y[0])"
   ]
  },
  {
   "cell_type": "code",
   "execution_count": 3,
   "metadata": {},
   "outputs": [],
   "source": [
    "# 将数据分成训练集和测试集\n",
    "x_train, x_test, y_train, y_test = train_test_split(x,y,train_size=0.5)"
   ]
  },
  {
   "cell_type": "code",
   "execution_count": 5,
   "metadata": {},
   "outputs": [
    {
     "name": "stdout",
     "output_type": "stream",
     "text": [
      "训练集评分:0.8875278396436526\n",
      "测试集评分:0.8120133481646273\n",
      "精准率:0.8120133481646273\n"
     ]
    }
   ],
   "source": [
    "#使用高斯贝叶斯分类器进行分类\n",
    "clf1 = naive_bayes.GaussianNB()\n",
    "clf1.fit(x_train,y_train)\n",
    "y_pred = clf1.predict(x_test)\n",
    "y_pred_proba = clf1.predict_proba(x_test)\n",
    "y_pred_log_proba = clf1.predict_log_proba(x_test)\n",
    "print(f'训练集评分:{clf1.score(x_train,y_train)}')\n",
    "print(f'测试集评分:{clf1.score(x_test,y_test)}')\n",
    "print(f'精准率:{metrics.accuracy_score(y_test,y_pred)}')"
   ]
  },
  {
   "cell_type": "code",
   "execution_count": 6,
   "metadata": {},
   "outputs": [
    {
     "name": "stdout",
     "output_type": "stream",
     "text": [
      "训练集评分:0.9142538975501113\n",
      "测试集评分:0.8876529477196885\n",
      "精准率:0.8876529477196885\n"
     ]
    }
   ],
   "source": [
    "#使用多项式贝叶斯分类器进行分类\n",
    "clf2 = naive_bayes.MultinomialNB()\n",
    "clf2.fit(x_train,y_train)\n",
    "y_pred = clf2.predict(x_test)\n",
    "y_pred_proba = clf2.predict_proba(x_test)\n",
    "y_pred_log_proba = clf2.predict_log_proba(x_test)\n",
    "print(f'训练集评分:{clf2.score(x_train,y_train)}')\n",
    "print(f'测试集评分:{clf2.score(x_test,y_test)}')\n",
    "print(f'精准率:{metrics.accuracy_score(y_test,y_pred)}')"
   ]
  },
  {
   "cell_type": "code",
   "execution_count": 8,
   "metadata": {},
   "outputs": [
    {
     "name": "stdout",
     "output_type": "stream",
     "text": [
      "训练集评分: 0.8752783964365256\n",
      "测试集评分: 0.8409343715239155\n",
      "精准率: 0.8409343715239155\n"
     ]
    }
   ],
   "source": [
    "#采用伯努利贝叶斯分类器进行分类\n",
    "clf3 = naive_bayes.BernoulliNB()\n",
    "clf3.fit(x_train,y_train)\n",
    "y_pred = clf3.predict(x_test)\n",
    "y_pred_proba = clf3.predict_proba(x_test)\n",
    "y_pred_log_proba = clf3.predict_log_proba(x_test)\n",
    "print('训练集评分:', clf3.score(x_train,y_train))\n",
    "print('测试集评分:', clf3.score(x_test,y_test))\n",
    "print(\"精准率:\", metrics.accuracy_score(y_test,y_pred))"
   ]
  },
  {
   "cell_type": "markdown",
   "metadata": {},
   "source": [
    "#结论：在手写字分类中，我们可以发现多项式分类的效果较好\n",
    "##高斯模型在使用的过程中，一般需要有参数服从高斯（正太）分布\n",
    "##而多项式和伯努利更多适用于非连续情况，一般多项式更好，少数样本量较小的情况伯努利更合适"
   ]
  },
  {
   "cell_type": "code",
   "execution_count": null,
   "metadata": {},
   "outputs": [],
   "source": []
  }
 ],
 "metadata": {
  "kernelspec": {
   "display_name": "Python 3",
   "language": "python",
   "name": "python3"
  },
  "language_info": {
   "codemirror_mode": {
    "name": "ipython",
    "version": 3
   },
   "file_extension": ".py",
   "mimetype": "text/x-python",
   "name": "python",
   "nbconvert_exporter": "python",
   "pygments_lexer": "ipython3",
   "version": "3.8.5"
  }
 },
 "nbformat": 4,
 "nbformat_minor": 4
}
