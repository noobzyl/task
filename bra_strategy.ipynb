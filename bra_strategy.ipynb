{
 "cells": [
  {
   "cell_type": "code",
   "execution_count": 88,
   "metadata": {
    "scrolled": true
   },
   "outputs": [
    {
     "name": "stdout",
     "output_type": "stream",
     "text": [
      "          creationTime productColor productSize\n",
      "0  2016-06-08 17:17:00        22咖啡色         75C\n",
      "   Unnamed: 0 productColor Color\n",
      "0           0        22咖啡色    棕色\n"
     ]
    }
   ],
   "source": [
    "import numpy as np\n",
    "import pandas as pd\n",
    "import matplotlib.pyplot as plt\n",
    "import matplotlib\n",
    "\n",
    "bra_data = pd.read_csv(\"./bra.csv\")\n",
    "colors_data = pd.read_csv(\"./colors.csv\")\n",
    "print(bra_data.head(1))\n",
    "print(colors_data.head(1))"
   ]
  },
  {
   "cell_type": "code",
   "execution_count": 89,
   "metadata": {
    "scrolled": true
   },
   "outputs": [
    {
     "name": "stdout",
     "output_type": "stream",
     "text": [
      "  productSize Color\n",
      "0         75C    棕色\n",
      "1         80B    棕色\n",
      "2         80B    棕色\n"
     ]
    }
   ],
   "source": [
    "bra_df = pd.merge(bra_data, colors_data, on = 'productColor')\n",
    "bra_df = bra_df.drop(columns = ['creationTime', 'productColor', 'Unnamed: 0'])\n",
    "print(bra_df.head(3))"
   ]
  },
  {
   "cell_type": "code",
   "execution_count": 90,
   "metadata": {},
   "outputs": [
    {
     "data": {
      "text/plain": [
       "<function matplotlib.pyplot.show(close=None, block=None)>"
      ]
     },
     "execution_count": 90,
     "metadata": {},
     "output_type": "execute_result"
    },
    {
     "data": {
      "image/png": "[encoded data removed]",
      "text/plain": [
       "<Figure size 432x288 with 1 Axes>"
      ]
     },
     "metadata": {
      "needs_background": "light"
     },
     "output_type": "display_data"
    }
   ],
   "source": [
    "# bra_df['productSize'].value_counts()\n",
    "colorlist = bra_df['Color'].astype('category').value_counts()\n",
    "# print(colourlist)\n",
    "colourlist.plot(kind = 'barh')\n",
    "plt.show"
   ]
  },
  {
   "cell_type": "code",
   "execution_count": null,
   "metadata": {
    "scrolled": false
   },
   "outputs": [],
   "source": []
  },
  {
   "cell_type": "code",
   "execution_count": 91,
   "metadata": {},
   "outputs": [
    {
     "data": {
      "text/html": [
       "<div>\n",
       "<style scoped>\n",
       "    .dataframe tbody tr th:only-of-type {\n",
       "        vertical-align: middle;\n",
       "    }\n",
       "\n",
       "    .dataframe tbody tr th {\n",
       "        vertical-align: top;\n",
       "    }\n",
       "\n",
       "    .dataframe thead th {\n",
       "        text-align: right;\n",
       "    }\n",
       "</style>\n",
       "<table border=\"1\" class=\"dataframe\">\n",
       "  <thead>\n",
       "    <tr style=\"text-align: right;\">\n",
       "      <th></th>\n",
       "      <th>productSize</th>\n",
       "      <th>Color</th>\n",
       "    </tr>\n",
       "  </thead>\n",
       "  <tbody>\n",
       "    <tr>\n",
       "      <th>0</th>\n",
       "      <td>75C</td>\n",
       "      <td>棕色</td>\n",
       "    </tr>\n",
       "    <tr>\n",
       "      <th>1</th>\n",
       "      <td>80B</td>\n",
       "      <td>棕色</td>\n",
       "    </tr>\n",
       "    <tr>\n",
       "      <th>2</th>\n",
       "      <td>80B</td>\n",
       "      <td>棕色</td>\n",
       "    </tr>\n",
       "    <tr>\n",
       "      <th>3</th>\n",
       "      <td>75B</td>\n",
       "      <td>棕色</td>\n",
       "    </tr>\n",
       "    <tr>\n",
       "      <th>4</th>\n",
       "      <td>80B</td>\n",
       "      <td>棕色</td>\n",
       "    </tr>\n",
       "  </tbody>\n",
       "</table>\n",
       "</div>"
      ],
      "text/plain": [
       "  productSize Color\n",
       "0         75C    棕色\n",
       "1         80B    棕色\n",
       "2         80B    棕色\n",
       "3         75B    棕色\n",
       "4         80B    棕色"
      ]
     },
     "execution_count": 91,
     "metadata": {},
     "output_type": "execute_result"
    }
   ],
   "source": [
    "bra_df['productSize'] = bra_df['productSize'].str.replace('34', '75')\n",
    "bra_df['productSize'] = bra_df['productSize'].str.replace('36', '80')\n",
    "bra_df['productSize'] = bra_df['productSize'].str.replace('30', '65')\n",
    "bra_df['productSize'] = bra_df['productSize'].str.replace('32', '70')\n",
    "bra_df['productSize'] = bra_df['productSize'].str.replace('38', '85')\n",
    "bra_df['productSize'] = bra_df['productSize'].str.replace('40', '90')\n",
    "bra_df['productSize'] = bra_df['productSize'].str.replace('a', 'A')\n",
    "bra_df['productSize'] = bra_df['productSize'].str.replace('b', 'B')\n",
    "bra_df['productSize'] = bra_df['productSize'].str.replace('c', 'C')\n",
    "bra_df['productSize'] = bra_df['productSize'].str.replace('d', 'D')\n",
    "bra_df['productSize'] = bra_df['productSize'].str.replace('e', 'E')\n",
    "bra_df.head()"
   ]
  },
  {
   "cell_type": "code",
   "execution_count": 92,
   "metadata": {},
   "outputs": [
    {
     "data": {
      "text/plain": [
       "80B/80B       2592\n",
       "75B/75B       2226\n",
       "75B=75B       1962\n",
       "75B           1125\n",
       "85B/85B        710\n",
       "              ... \n",
       "90C              1\n",
       "85B+(内裤)套装       1\n",
       "85E+(内裤)套装       1\n",
       "95E              1\n",
       "A70              1\n",
       "Name: productSize, Length: 108, dtype: int64"
      ]
     },
     "execution_count": 92,
     "metadata": {},
     "output_type": "execute_result"
    }
   ],
   "source": [
    "bra_df['productSize'].value_counts()"
   ]
  },
  {
   "cell_type": "code",
   "execution_count": 93,
   "metadata": {},
   "outputs": [],
   "source": [
    "size_lis = []\n",
    "for i in range(len(bra_df)):\n",
    "    if 'A' in str(bra_df['productSize'][i]) and '70' in str(bra_df['productSize'][i]):\n",
    "        size_lis.append(\"70A\")\n",
    "    elif 'B' in str(bra_df['productSize'][i]) and '70' in str(bra_df['productSize'][i]):\n",
    "        size_lis.append('70B')\n",
    "    elif 'C' in str(bra_df['productSize'][i]) and '70' in str(bra_df['productSize'][i]):\n",
    "        size_lis.append('70C')\n",
    "    elif 'D' in str(bra_df['productSize'][i]) and '70' in str(bra_df['productSize'][i]):\n",
    "        size_lis.append('70D')\n",
    "    elif 'E' in str(bra_df['productSize'][i]) and '70' in str(bra_df['productSize'][i]):\n",
    "        size_lis.append('70E')\n",
    "    elif 'F' in str(bra_df['productSize'][i]) and '70' in str(bra_df['productSize'][i]):\n",
    "        size_lis.append('70F')\n",
    "    elif 'A' in str(bra_df['productSize'][i]) and '75' in str(bra_df['productSize'][i]):\n",
    "        size_lis.append('75A')\n",
    "    elif 'B' in str(bra_df['productSize'][i]) and '75' in str(bra_df['productSize'][i]):\n",
    "        size_lis.append('75B')\n",
    "    elif 'C' in str(bra_df['productSize'][i]) and '75' in str(bra_df['productSize'][i]):\n",
    "        size_lis.append('75C')\n",
    "    elif 'D' in str(bra_df['productSize'][i]) and '75' in str(bra_df['productSize'][i]):\n",
    "        size_lis.append('75D')\n",
    "    elif 'E' in str(bra_df['productSize'][i]) and '75' in str(bra_df['productSize'][i]):\n",
    "        size_lis.append('75E')\n",
    "    elif 'F' in str(bra_df['productSize'][i]) and '75' in str(bra_df['productSize'][i]):\n",
    "        size_lis.append('75F')\n",
    "    elif 'A' in str(bra_df['productSize'][i]) and '80' in str(bra_df['productSize'][i]):\n",
    "        size_lis.append('80A')\n",
    "    elif 'B' in str(bra_df['productSize'][i]) and '80' in str(bra_df['productSize'][i]):\n",
    "        size_lis.append('80B')\n",
    "    elif 'C' in str(bra_df['productSize'][i]) and '80' in str(bra_df['productSize'][i]):\n",
    "        size_lis.append('80C')\n",
    "    elif 'D' in str(bra_df['productSize'][i]) and '80' in str(bra_df['productSize'][i]):\n",
    "        size_lis.append('80D')\n",
    "    elif 'E' in str(bra_df['productSize'][i]) and '80' in str(bra_df['productSize'][i]):\n",
    "        size_lis.append('80E')\n",
    "    elif 'F' in str(bra_df['productSize'][i]) and '80' in str(bra_df['productSize'][i]):\n",
    "        size_lis.append('80F')\n",
    "    elif 'A' in str(bra_df['productSize'][i]) and '85' in str(bra_df['productSize'][i]):\n",
    "        size_lis.append('85A')\n",
    "    elif 'B' in str(bra_df['productSize'][i]) and '85' in str(bra_df['productSize'][i]):\n",
    "        size_lis.append('85B')\n",
    "    elif 'C' in str(bra_df['productSize'][i]) and '85' in str(bra_df['productSize'][i]):\n",
    "        size_lis.append('85C')\n",
    "    elif 'D' in str(bra_df['productSize'][i]) and '85' in str(bra_df['productSize'][i]):\n",
    "        size_lis.append('85D')\n",
    "    elif 'E' in str(bra_df['productSize'][i]) and '85' in str(bra_df['productSize'][i]):\n",
    "        size_lis.append('85E')\n",
    "    elif 'F' in str(bra_df['productSize'][i]) and '85' in str(bra_df['productSize'][i]):\n",
    "        size_lis.append('85F')\n",
    "    elif 'A' in str(bra_df['productSize'][i]) and '90' in str(bra_df['productSize'][i]):\n",
    "        size_lis.append('90A')\n",
    "    elif 'B' in str(bra_df['productSize'][i]) and '90' in str(bra_df['productSize'][i]):\n",
    "        size_lis.append('90B')\n",
    "    elif 'C' in str(bra_df['productSize'][i]) and '90' in str(bra_df['productSize'][i]):\n",
    "        size_lis.append('90C')\n",
    "    elif 'D' in str(bra_df['productSize'][i]) and '90' in str(bra_df['productSize'][i]):\n",
    "        size_lis.append('90D')\n",
    "    elif 'E' in str(bra_df['productSize'][i]) and '90' in str(bra_df['productSize'][i]):\n",
    "        size_lis.append('90E')\n",
    "    elif 'F' in str(bra_df['productSize'][i]) and '90' in str(bra_df['productSize'][i]):\n",
    "        size_lis.append('90F')\n",
    "    "
   ]
  },
  {
   "cell_type": "code",
   "execution_count": 94,
   "metadata": {},
   "outputs": [
    {
     "data": {
      "image/png": "[encoded data removed]",
      "text/plain": [
       "<Figure size 432x288 with 1 Axes>"
      ]
     },
     "metadata": {
      "needs_background": "light"
     },
     "output_type": "display_data"
    }
   ],
   "source": [
    "from pandas.core.frame import DataFrame\n",
    "size_dic = {\"productSize\": size_lis}\n",
    "size_df = DataFrame(size_dic)\n",
    "sizelist = size_df.value_counts()\n",
    "sizelist.plot(kind = 'barh')\n",
    "plt.show()"
   ]
  },
  {
   "cell_type": "code",
   "execution_count": null,
   "metadata": {},
   "outputs": [],
   "source": []
  },
  {
   "cell_type": "code",
   "execution_count": null,
   "metadata": {},
   "outputs": [],
   "source": []
  },
  {
   "cell_type": "code",
   "execution_count": null,
   "metadata": {},
   "outputs": [],
   "source": []
  },
  {
   "cell_type": "code",
   "execution_count": null,
   "metadata": {},
   "outputs": [],
   "source": []
  }
 ],
 "metadata": {
  "kernelspec": {
   "display_name": "Python 3",
   "language": "python",
   "name": "python3"
  },
  "language_info": {
   "codemirror_mode": {
    "name": "ipython",
    "version": 3
   },
   "file_extension": ".py",
   "mimetype": "text/x-python",
   "name": "python",
   "nbconvert_exporter": "python",
   "pygments_lexer": "ipython3",
   "version": "3.9.0"
  }
 },
 "nbformat": 4,
 "nbformat_minor": 4
}
